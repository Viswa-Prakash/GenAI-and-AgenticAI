{
 "cells": [
  {
   "cell_type": "code",
   "execution_count": null,
   "id": "fdf88206",
   "metadata": {},
   "outputs": [
    {
     "data": {
      "text/plain": [
       "True"
      ]
     },
     "execution_count": 1,
     "metadata": {},
     "output_type": "execute_result"
    }
   ],
   "source": [
    "import os\n",
    "from dotenv import load_dotenv\n",
    "load_dotenv()"
   ]
  },
  {
   "cell_type": "code",
   "execution_count": 2,
   "id": "47a6edad",
   "metadata": {},
   "outputs": [],
   "source": [
    "os.environ[\"OPENAI_API_KEY\"] = os.getenv(\"OPENAI_API_KEY\")"
   ]
  },
  {
   "cell_type": "code",
   "execution_count": 3,
   "id": "42d8e556",
   "metadata": {},
   "outputs": [
    {
     "name": "stdout",
     "output_type": "stream",
     "text": [
      "LLM Response: A software engineer starts the day reviewing code and attending stand-up meetings to discuss progress. They spend hours coding, debugging, and testing new features, collaborating with teammates. In the afternoon, they review pull requests, optimize performance, and plan upcoming tasks, ending the day with documentation and learning new technologies.\n",
      "Word Count: 351\n"
     ]
    }
   ],
   "source": [
    "from langchain_openai import ChatOpenAI\n",
    "\n",
    "llm_count = ChatOpenAI(model = \"gpt-4.1-nano\", temperature=0.7) # to get less precise word count\n",
    "result = llm_count.invoke(\"Describe a day in the life of a software engineer in about 50 words.\")\n",
    "response_text = result.content\n",
    "\n",
    "word_count = len(response_text)\n",
    "print(f\"LLM Response: {response_text}\")\n",
    "print(f\"Word Count: {word_count}\")\n"
   ]
  },
  {
   "cell_type": "code",
   "execution_count": null,
   "id": "374bbc10",
   "metadata": {},
   "outputs": [],
   "source": []
  }
 ],
 "metadata": {
  "kernelspec": {
   "display_name": "genAI",
   "language": "python",
   "name": "python3"
  },
  "language_info": {
   "codemirror_mode": {
    "name": "ipython",
    "version": 3
   },
   "file_extension": ".py",
   "mimetype": "text/x-python",
   "name": "python",
   "nbconvert_exporter": "python",
   "pygments_lexer": "ipython3",
   "version": "3.13.0"
  }
 },
 "nbformat": 4,
 "nbformat_minor": 5
}
