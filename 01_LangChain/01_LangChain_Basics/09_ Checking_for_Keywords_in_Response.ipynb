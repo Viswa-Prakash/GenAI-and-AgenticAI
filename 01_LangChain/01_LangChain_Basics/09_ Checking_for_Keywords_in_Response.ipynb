{
 "cells": [
  {
   "cell_type": "code",
   "execution_count": 1,
   "id": "7236ce06",
   "metadata": {},
   "outputs": [
    {
     "data": {
      "text/plain": [
       "True"
      ]
     },
     "execution_count": 1,
     "metadata": {},
     "output_type": "execute_result"
    }
   ],
   "source": [
    "import os\n",
    "from dotenv import load_dotenv\n",
    "load_dotenv()"
   ]
  },
  {
   "cell_type": "code",
   "execution_count": 2,
   "id": "e42621f2",
   "metadata": {},
   "outputs": [],
   "source": [
    "os.environ[\"OPENAI_API_KEY\"] = os.getenv(\"OPENAI_API_KEY\")"
   ]
  },
  {
   "cell_type": "code",
   "execution_count": 3,
   "id": "9374c322",
   "metadata": {},
   "outputs": [],
   "source": [
    "from langchain_openai import ChatOpenAI"
   ]
  },
  {
   "cell_type": "code",
   "execution_count": 5,
   "id": "e45bd008",
   "metadata": {},
   "outputs": [
    {
     "name": "stdout",
     "output_type": "stream",
     "text": [
      "Response mention images and text generation\n",
      "Full Response: generative artificial intelligence (genai) refers to ai systems designed to create content such as text, images, audio, and more. its versatility has led to a wide range of applications across various industries. here are some of the most common applications of genai:\n",
      "\n",
      "1. **content creation and copywriting**\n",
      "   - **text generation:** tools like openai's gpt models assist in writing articles, blog posts, marketing copy, and even creative writing such as stories and poetry.\n",
      "   - **scriptwriting:** assisting in drafting scripts for videos, advertisements, and other media.\n",
      "\n",
      "2. **image and art generation**\n",
      "   - **image synthesis:** platforms like dall-e and midjourney generate images based on textual descriptions, useful for design, marketing, and creative projects.\n",
      "   - **art creation:** assisting artists in generating new styles or elements for their artwork.\n",
      "\n",
      "3. **conversational agents and chatbots**\n",
      "   - **customer support:** ai-driven chatbots handle customer inquiries, troubleshoot issues, and provide information, enhancing user experience and reducing operational costs.\n",
      "   - **virtual assistants:** tools like chatgpt assist with scheduling, reminders, and information retrieval.\n",
      "\n",
      "4. **personalized recommendations**\n",
      "   - **e-commerce:** generating personalized product descriptions and recommendations based on user behavior and preferences.\n",
      "   - **content streaming:** suggesting movies, music, or articles tailored to individual tastes.\n",
      "\n",
      "5. **code generation and software development**\n",
      "   - **automated coding:** tools like github copilot help developers by suggesting code snippets, debugging, and even writing entire functions based on natural language prompts.\n",
      "   - **documentation:** automatically generating documentation from codebases.\n",
      "\n",
      "6. **education and e-learning**\n",
      "   - **tutoring systems:** providing personalized learning materials, explanations, and practice problems.\n",
      "   - **content generation:** creating quizzes, summaries, and study guides tailored to specific curricula.\n",
      "\n",
      "7. **healthcare**\n",
      "   - **medical documentation:** assisting in generating and managing medical records, summaries, and reports.\n",
      "   - **drug discovery:** generating molecular structures and simulating potential drug interactions.\n",
      "\n",
      "8. **entertainment and media**\n",
      "   - **game development:** creating narrative content, character dialogues, and even procedural generation of game environments.\n",
      "   - **music composition:** generating original music pieces or assisting musicians in composing.\n",
      "\n",
      "9. **marketing and advertising**\n",
      "   - **ad copy and design:** creating compelling advertisements tailored to target audiences.\n",
      "   - **social media content:** generating posts, captions, and visual content to engage followers.\n",
      "\n",
      "10. **translation and localization**\n",
      "    - **language translation:** providing accurate and context-aware translations for global audiences.\n",
      "    - **cultural adaptation:** adapting content to fit cultural nuances and preferences of different regions.\n",
      "\n",
      "11. **data augmentation and simulation**\n",
      "    - **training data generation:** creating synthetic datasets to train other machine learning models, especially in scenarios where real data is scarce.\n",
      "    - **simulation environments:** generating realistic scenarios for testing and training purposes.\n",
      "\n",
      "12. **legal and compliance**\n",
      "    - **document drafting:** assisting in drafting contracts, agreements, and other legal documents.\n",
      "    - **compliance monitoring:** generating reports and ensuring that content adheres to regulatory standards.\n",
      "\n",
      "13. **personal assistants and productivity tools**\n",
      "    - **email drafting:** composing and responding to emails based on user input.\n",
      "    - **scheduling:** managing calendars and appointments efficiently.\n",
      "\n",
      "14. **accessibility**\n",
      "    - **content simplification:** translating complex texts into simpler language for better accessibility.\n",
      "    - **speech-to-text and text-to-speech:** enhancing communication for individuals with disabilities.\n",
      "\n",
      "**key benefits of genai applications:**\n",
      "- **efficiency:** automates repetitive and time-consuming tasks, allowing humans to focus on more strategic activities.\n",
      "- **creativity enhancement:** provides new ideas and perspectives, fostering innovation.\n",
      "- **personalization:** tailors content and experiences to individual preferences and needs.\n",
      "- **scalability:** handles large volumes of tasks or content generation without significant increases in cost or time.\n",
      "\n",
      "**challenges and considerations:**\n",
      "- **quality control:** ensuring the generated content is accurate, relevant, and free from biases.\n",
      "- **ethical use:** preventing misuse of genai for creating fake news, deepfakes, or other malicious content.\n",
      "- **intellectual property:** addressing ownership and rights related to ai-generated content.\n",
      "- **privacy:** safeguarding sensitive information, especially in applications like healthcare and legal services.\n",
      "\n",
      "generative ai continues to evolve, expanding its capabilities and applications. as technology advances, it's likely that new and innovative uses will emerge, further integrating genai into various aspects of daily life and industry operations.\n"
     ]
    }
   ],
   "source": [
    "llm_keyword = ChatOpenAI(model = \"o1-mini\")\n",
    "result = llm_keyword.invoke(\"What is the common application of GenAI\")\n",
    "\n",
    "response_content = result.content.lower()\n",
    "\n",
    "if \"image\" in response_content and \"text\" in response_content:\n",
    "    print(\"Response mention images and text generation\")\n",
    "else:\n",
    "     print(\"Response does not mention both\")\n",
    "\n",
    "print(f\"Full Response: {response_content}\")"
   ]
  },
  {
   "cell_type": "code",
   "execution_count": null,
   "id": "9f07aeaa",
   "metadata": {},
   "outputs": [],
   "source": []
  }
 ],
 "metadata": {
  "kernelspec": {
   "display_name": "genAI",
   "language": "python",
   "name": "python3"
  },
  "language_info": {
   "codemirror_mode": {
    "name": "ipython",
    "version": 3
   },
   "file_extension": ".py",
   "mimetype": "text/x-python",
   "name": "python",
   "nbconvert_exporter": "python",
   "pygments_lexer": "ipython3",
   "version": "3.13.0"
  }
 },
 "nbformat": 4,
 "nbformat_minor": 5
}
