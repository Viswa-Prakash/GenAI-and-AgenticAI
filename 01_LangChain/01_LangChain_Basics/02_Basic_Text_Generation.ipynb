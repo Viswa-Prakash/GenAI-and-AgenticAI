{
 "cells": [
  {
   "cell_type": "code",
   "execution_count": 1,
   "id": "0a108835",
   "metadata": {},
   "outputs": [
    {
     "data": {
      "text/plain": [
       "True"
      ]
     },
     "execution_count": 1,
     "metadata": {},
     "output_type": "execute_result"
    }
   ],
   "source": [
    "import os\n",
    "from dotenv import load_dotenv\n",
    "load_dotenv()"
   ]
  },
  {
   "cell_type": "code",
   "execution_count": 2,
   "id": "a4ceb0c5",
   "metadata": {},
   "outputs": [],
   "source": [
    "os.environ[\"OPENAI_API_KEY\"] = os.getenv(\"OPENAI_API_KEY\")"
   ]
  },
  {
   "cell_type": "code",
   "execution_count": 3,
   "id": "f40d4fef",
   "metadata": {},
   "outputs": [],
   "source": [
    "from langchain_openai import ChatOpenAI"
   ]
  },
  {
   "cell_type": "code",
   "execution_count": 4,
   "id": "b917ebe6",
   "metadata": {},
   "outputs": [
    {
     "name": "stdout",
     "output_type": "stream",
     "text": [
      "In a cozy little cottage at the edge of a whispering forest, there lived a teapot named Tilly. Unlike any other teapot, Tilly could talk! Every morning, as the sun painted the sky with hues of gold and pink, Tilly would sing cheerful tunes while boiling water for tea.\n",
      "\n",
      "One day, a curious child named Emma discovered Tilly’s secret. “How do you talk?” Emma asked, her eyes wide with wonder.\n",
      "\n",
      "Tilly chuckled warmly. “Magic, of course! But the real magic is in sharing stories. Every time I pour tea, I tell a tale from the forest—of brave squirrels, clever foxes, and dancing fireflies.”\n",
      "\n",
      "From that day on, Emma visited the cottage every afternoon, eagerly sipping tea and listening to Tilly’s enchanting stories. Together, they filled the little cottage with laughter, warmth, and a sprinkle of magic that made every day extraordinary.\n"
     ]
    }
   ],
   "source": [
    "llm_creative = ChatOpenAI(model = \"gpt-4.1-mini\", temperature=0.9)\n",
    "result = llm_creative.invoke(\"Write a short imaginative stopy on talking teapot\")\n",
    "print(result.content)"
   ]
  }
 ],
 "metadata": {
  "kernelspec": {
   "display_name": "genAI",
   "language": "python",
   "name": "python3"
  },
  "language_info": {
   "codemirror_mode": {
    "name": "ipython",
    "version": 3
   },
   "file_extension": ".py",
   "mimetype": "text/x-python",
   "name": "python",
   "nbconvert_exporter": "python",
   "pygments_lexer": "ipython3",
   "version": "3.13.0"
  }
 },
 "nbformat": 4,
 "nbformat_minor": 5
}
