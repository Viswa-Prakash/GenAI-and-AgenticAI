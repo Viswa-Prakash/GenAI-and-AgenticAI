{
 "cells": [
  {
   "cell_type": "code",
   "execution_count": 1,
   "id": "563e85af",
   "metadata": {},
   "outputs": [
    {
     "data": {
      "text/plain": [
       "True"
      ]
     },
     "execution_count": 1,
     "metadata": {},
     "output_type": "execute_result"
    }
   ],
   "source": [
    "import os\n",
    "from dotenv import load_dotenv\n",
    "load_dotenv()"
   ]
  },
  {
   "cell_type": "code",
   "execution_count": 5,
   "id": "344a22c4",
   "metadata": {},
   "outputs": [],
   "source": [
    "os.environ[\"GROQ_API_KEY\"] = os.getenv(\"GROQ_API_KEY\")"
   ]
  },
  {
   "cell_type": "code",
   "execution_count": 6,
   "id": "552a6880",
   "metadata": {},
   "outputs": [],
   "source": [
    "from langchain_groq import ChatGroq"
   ]
  },
  {
   "cell_type": "code",
   "execution_count": 7,
   "id": "c7f9ac89",
   "metadata": {},
   "outputs": [
    {
     "name": "stdout",
     "output_type": "stream",
     "text": [
      "Certainly, let's explore variable declaration in Python.\n",
      "\n",
      "In Python, you don't explicitly declare a variable's type like you might in some other languages (e.g., Java, C++). Instead, you simply assign a value to a name, and Python infers the type based on that value.\n",
      "\n",
      "**Basic Syntax:**\n",
      "\n",
      "```python\n",
      "variable_name = value\n",
      "```\n",
      "\n",
      "* **variable_name:** Choose a descriptive name for your variable. It can contain letters, numbers, and underscores, but must start with a letter or underscore.\n",
      "\n",
      "* **=:** The assignment operator, which assigns the value on the right to the variable on the left.\n",
      "\n",
      "* **value:** The data you want to store in the variable. This can be of various types like numbers (integers, floats), strings, booleans (True/False), lists, dictionaries, etc.\n",
      "\n",
      "**Examples:**\n",
      "\n",
      "```python\n",
      "age = 25  # Integer\n",
      "name = \"Alice\"  # String\n",
      "is_student = True  # Boolean\n",
      "height = 1.65  # Float\n",
      "```\n",
      "\n",
      "**Key Points:**\n",
      "\n",
      "* **Case-sensitive:** Python is case-sensitive. `age` is different from `Age`.\n",
      "\n",
      "* **Dynamic Typing:** Python determines the type of a variable at runtime based on the assigned value.\n",
      "\n",
      "* **Naming Conventions:**\n",
      "\n",
      "   * Use lowercase letters for variable names and separate words with underscores (e.g., `first_name`).\n",
      "   * Choose names that clearly reflect the variable's purpose.\n",
      "\n",
      "Feel free to ask if you have any more questions or want to delve into specific variable types!\n",
      "\n"
     ]
    }
   ],
   "source": [
    "llm_roleplay = ChatGroq(model = \"gemma2-9b-it\")\n",
    "prompt = \"You are a helpful coding assistant. Explain how to declare a variable in python\"\n",
    "result = llm_roleplay.invoke(prompt)\n",
    "print(result.content)"
   ]
  },
  {
   "cell_type": "code",
   "execution_count": null,
   "id": "16f90fde",
   "metadata": {},
   "outputs": [],
   "source": []
  }
 ],
 "metadata": {
  "kernelspec": {
   "display_name": "genAI",
   "language": "python",
   "name": "python3"
  },
  "language_info": {
   "codemirror_mode": {
    "name": "ipython",
    "version": 3
   },
   "file_extension": ".py",
   "mimetype": "text/x-python",
   "name": "python",
   "nbconvert_exporter": "python",
   "pygments_lexer": "ipython3",
   "version": "3.13.0"
  }
 },
 "nbformat": 4,
 "nbformat_minor": 5
}
