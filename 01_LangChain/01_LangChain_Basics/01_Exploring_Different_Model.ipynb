{
 "cells": [
  {
   "cell_type": "code",
   "execution_count": 1,
   "id": "bc7ca2b7",
   "metadata": {},
   "outputs": [],
   "source": [
    "from langchain_openai import ChatOpenAI\n",
    "from langchain_groq import ChatGroq\n",
    "from langchain_google_genai import ChatGoogleGenerativeAI"
   ]
  },
  {
   "cell_type": "code",
   "execution_count": 2,
   "id": "00f504fe",
   "metadata": {},
   "outputs": [
    {
     "data": {
      "text/plain": [
       "True"
      ]
     },
     "execution_count": 2,
     "metadata": {},
     "output_type": "execute_result"
    }
   ],
   "source": [
    "import os\n",
    "from dotenv import load_dotenv\n",
    "load_dotenv()"
   ]
  },
  {
   "cell_type": "code",
   "execution_count": 3,
   "id": "aace4551",
   "metadata": {},
   "outputs": [],
   "source": [
    "os.environ[\"OPENAI_API_KEY\"] = os.getenv(\"OPENAI_API_KEY\")\n",
    "os.environ[\"GROQ_API_KEY\"] = os.getenv(\"GROQ_API_KEY\")\n",
    "os.environ[\"GOOGLE_API_KEY\"] = os.getenv(\"GOOGLE_API_KEY\")"
   ]
  },
  {
   "cell_type": "markdown",
   "id": "8665f45c",
   "metadata": {},
   "source": [
    "OpenAI Model"
   ]
  },
  {
   "cell_type": "code",
   "execution_count": 4,
   "id": "4c4ea860",
   "metadata": {},
   "outputs": [
    {
     "name": "stdout",
     "output_type": "stream",
     "text": [
      "Hello! I'm ChatGPT, an artificial intelligence language model created by OpenAI. I'm designed to assist with a wide range of tasks, such as answering questions, providing explanations, brainstorming ideas, and engaging in conversations on various topics. My knowledge is based on information available up until October 2023, so feel free to ask me anything you'd like to discuss or learn more about!\n"
     ]
    }
   ],
   "source": [
    "llm_openai = ChatOpenAI(model = \"o1-mini\")\n",
    "result = llm_openai.invoke(\"Hi, tell me about yourself\")\n",
    "print(result.content)"
   ]
  },
  {
   "cell_type": "markdown",
   "id": "c43e70ff",
   "metadata": {},
   "source": [
    "Groq Model"
   ]
  },
  {
   "cell_type": "code",
   "execution_count": 5,
   "id": "e698d0e4",
   "metadata": {},
   "outputs": [
    {
     "name": "stdout",
     "output_type": "stream",
     "text": [
      "Hello! I am Gemma, an open-weights AI assistant developed by the Gemma team at Google DeepMind. That means my weights are publicly accessible, allowing anyone to study, modify, or build upon me.\n",
      "\n",
      "Here are some key things to know about me:\n",
      "\n",
      "* **Text-only:** I communicate and understand information through text. I can't process images, audio, or video.\n",
      "* **Knowledge cutoff:** My knowledge is based on the data I was trained on, which has a cutoff point. I don't have access to real-time information or the ability to search the internet.\n",
      "* **No personal opinions or beliefs:** As an AI, I don't have personal opinions, beliefs, or emotions. My responses are based on patterns and information learned from the data I was trained on.\n",
      "* **Focused on helpfulness:** My purpose is to be helpful and informative. I aim to provide accurate and comprehensive answers to your questions to the best of my ability based on my training.\n",
      "\n",
      "I'm constantly learning and evolving as more people interact with me and contribute to my development.\n",
      "\n",
      "What can I help you with today?\n",
      "\n"
     ]
    }
   ],
   "source": [
    "llm_groq = ChatGroq(model = \"gemma2-9b-it\")\n",
    "result = llm_groq.invoke(\"Hi, tell me about yourself\")\n",
    "print(result.content)"
   ]
  },
  {
   "cell_type": "markdown",
   "id": "02d89279",
   "metadata": {},
   "source": [
    "Google GenAI Model"
   ]
  },
  {
   "cell_type": "code",
   "execution_count": 6,
   "id": "00834e1e",
   "metadata": {},
   "outputs": [
    {
     "name": "stdout",
     "output_type": "stream",
     "text": [
      "I am a large language model, an artificial intelligence. I was trained by Google.\n",
      "\n",
      "My primary function is to assist users by providing information, answering questions, generating text, and engaging in conversations on a wide range of topics. I don't have personal experiences, emotions, consciousness, or a physical body. I don't have a personal life, memories, or opinions in the human sense.\n",
      "\n",
      "Think of me as a helpful tool or an informational resource designed to process and generate human-like text based on the vast amount of data I was trained on.\n",
      "\n",
      "Is there anything specific you'd like to know or something I can help you with?\n"
     ]
    }
   ],
   "source": [
    "llm_google = ChatGoogleGenerativeAI(model = \"gemini-2.5-flash\")\n",
    "result = llm_google.invoke(\"Hi, tell me about yourself\")\n",
    "print(result.content)"
   ]
  }
 ],
 "metadata": {
  "kernelspec": {
   "display_name": "genAI",
   "language": "python",
   "name": "python3"
  },
  "language_info": {
   "codemirror_mode": {
    "name": "ipython",
    "version": 3
   },
   "file_extension": ".py",
   "mimetype": "text/x-python",
   "name": "python",
   "nbconvert_exporter": "python",
   "pygments_lexer": "ipython3",
   "version": "3.13.0"
  }
 },
 "nbformat": 4,
 "nbformat_minor": 5
}
