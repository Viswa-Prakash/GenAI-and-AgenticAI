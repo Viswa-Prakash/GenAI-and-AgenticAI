{
 "cells": [
  {
   "cell_type": "code",
   "execution_count": 1,
   "id": "ec7e76d5",
   "metadata": {},
   "outputs": [
    {
     "data": {
      "text/plain": [
       "True"
      ]
     },
     "execution_count": 1,
     "metadata": {},
     "output_type": "execute_result"
    }
   ],
   "source": [
    "import os\n",
    "from dotenv import load_dotenv\n",
    "load_dotenv()"
   ]
  },
  {
   "cell_type": "code",
   "execution_count": 2,
   "id": "40059ee0",
   "metadata": {},
   "outputs": [],
   "source": [
    "os.environ[\"OPENAI_API_KEY\"] = os.getenv(\"OPENAI_API_KEY\")"
   ]
  },
  {
   "cell_type": "code",
   "execution_count": null,
   "id": "44151dd1",
   "metadata": {},
   "outputs": [],
   "source": [
    "from langchain_openai import ChatOpenAI\n",
    "from langchain_core.prompts import PromptTemplate"
   ]
  },
  {
   "cell_type": "markdown",
   "id": "c3aefa22",
   "metadata": {},
   "source": [
    "## StrOutputParser:\n",
    "- This is the simplest parser. It converts the AIMessage object into a plain Python string by extracting its content attribute."
   ]
  },
  {
   "cell_type": "code",
   "execution_count": null,
   "id": "bc223829",
   "metadata": {},
   "outputs": [
    {
     "name": "stdout",
     "output_type": "stream",
     "text": [
      "**Fun Fact:**  \n",
      "Emperor penguins are the largest penguin species and are incredible survivors of the harsh Antarctic winter. To stay warm in temperatures that can drop below -60°C (-76°F), thousands of Emperor penguins huddle together in large groups. By constantly shifting their positions within the group, they ensure that each penguin gets a turn in the warmer center, helping the entire colony endure the extreme cold until the weather improves.\n"
     ]
    }
   ],
   "source": [
    "from langchain_core.output_parsers import StrOutputParser\n",
    "\n",
    "llm = ChatOpenAI(model = \"o1-mini\")\n",
    "prompt = PromptTemplate.from_template(\"Tell me a fun fact about a {animal}.\")\n",
    "parser = StrOutputParser()\n",
    "chain = prompt | llm | parser\n",
    "result = chain.invoke({'animal' : 'penguin'})\n",
    "print(result)"
   ]
  },
  {
   "cell_type": "markdown",
   "id": "46ff28a5",
   "metadata": {},
   "source": [
    "## CommaSeparatedListOutputParser:\n",
    "- It expects the LLM to output a string where items are separated by commas (and optionally spaces), and it converts this into a Python list of strings."
   ]
  },
  {
   "cell_type": "code",
   "execution_count": 14,
   "id": "f0a4cc00",
   "metadata": {},
   "outputs": [
    {
     "name": "stdout",
     "output_type": "stream",
     "text": [
      "['Labrador Retriever', 'German Shepherd', 'Bulldog']\n"
     ]
    }
   ],
   "source": [
    "from langchain_core.output_parsers import CommaSeparatedListOutputParser\n",
    "\n",
    "llm = ChatOpenAI(model = 'o1-mini')\n",
    "parser = CommaSeparatedListOutputParser()\n",
    "prompt = PromptTemplate.from_template(\"List out three dog breeds seperated out by commas\")\n",
    "chain = prompt | llm | parser\n",
    "result = chain.invoke({})\n",
    "print(result)"
   ]
  },
  {
   "cell_type": "markdown",
   "id": "8b96b5a1",
   "metadata": {},
   "source": [
    "## JsonOutputParser:\n",
    "- This is a very powerful parser. It expects the LLM to output a JSON string, which it then converts into a Python dictionary."
   ]
  },
  {
   "cell_type": "code",
   "execution_count": 18,
   "id": "9f0738bd",
   "metadata": {},
   "outputs": [
    {
     "name": "stdout",
     "output_type": "stream",
     "text": [
      "{'name': 'John Doe', 'age': 30, 'city': 'New York City'}\n"
     ]
    }
   ],
   "source": [
    "from pydantic import BaseModel, Field\n",
    "from langchain_core.output_parsers import JsonOutputParser\n",
    "\n",
    "class Person(BaseModel):\n",
    "    name:str = Field(description = \"The person's full name\")\n",
    "    age:int = Field(description = \"The person's age in years\")\n",
    "    city:str = Field(description = \"The city where the person lives\")\n",
    "\n",
    "llm = ChatOpenAI(model = 'o1-mini')\n",
    "parser = JsonOutputParser(pydantic_object = Person)\n",
    "prompt = PromptTemplate.from_template(\n",
    "    \"Extract information on {person_bio} as JSON based on this schema:\\n{format_instructions}\"\n",
    ")\n",
    "chain = prompt|llm|parser\n",
    "user_input = \"John Doe is 30 years old and lives in New York City.\"\n",
    "result = chain.invoke({\n",
    "    \"person_bio\":user_input,\n",
    "    \"format_instructions\":parser.get_format_instructions()\n",
    "})\n",
    "print(result)"
   ]
  },
  {
   "cell_type": "markdown",
   "id": "77ff2773",
   "metadata": {},
   "source": [
    "## Core/Standard Output Parsers\n",
    "### From langchain.output_parsers:  \n",
    " - CommaSeparatedListOutputParser:  \n",
    "Parses text output into a list by splitting on commas.\n",
    "\n",
    "- PydanticOutputParser:  \n",
    "Parses output into a Pydantic model.\n",
    "\n",
    "- JsonOutputParser:  \n",
    "Parses output into a Python object via json.loads.\n",
    "\n",
    "- RetryOutputParser:  \n",
    "Retries parsing on failure (wraps another parser).\n",
    "\n",
    "- StructuredOutputParser:  \n",
    "Parses output to a specific JSON schema.\n",
    "\n",
    "- OutputFixingParser:  \n",
    "Tries to fix output parsing errors automatically.\n",
    "\n",
    "- DataclassOutputParser:  \n",
    "Parses output into a Python dataclass.\n",
    "\n",
    "- ListOutputParser:  \n",
    "Parses output into a Python list.\n",
    "\n",
    "- RegexParser:  \n",
    "Parses output using a provided regex pattern.\n",
    "\n",
    "- NumberedListOutputParser:  \n",
    "Parses a numbered list (1., 2., 3.) into a Python list.\n",
    "\n",
    "- MarkdownListOutputParser:  \n",
    "Parses a markdown-formatted list into a Python list.\n",
    "\n",
    "### From langchain_core.output_parsers:\n",
    "- StrOutputParser:  \n",
    "Trivially returns the string output (no parsing).\n",
    "\n",
    "- BaseOutputParser:  \n",
    "Abstract base class for custom output parsers.\n",
    "\n",
    "### Some Notable Community/Other Parsers\n",
    "These may require installation of extensions or be in other langchain_* packages:\n",
    "\n",
    "- XMLOutputParser\n",
    "- MarkdownOutputParser\n",
    "- CSVOutputParser\n",
    "\n",
    "### How to View All Available Parsers?\n",
    "The most up-to-date list is best viewed directly from the source code or via pip autocomplete:\n",
    "\n",
    "* from langchain.output_parsers import *\n"
   ]
  },
  {
   "cell_type": "markdown",
   "id": "71b6f3fc",
   "metadata": {},
   "source": []
  }
 ],
 "metadata": {
  "kernelspec": {
   "display_name": "genAI",
   "language": "python",
   "name": "python3"
  },
  "language_info": {
   "codemirror_mode": {
    "name": "ipython",
    "version": 3
   },
   "file_extension": ".py",
   "mimetype": "text/x-python",
   "name": "python",
   "nbconvert_exporter": "python",
   "pygments_lexer": "ipython3",
   "version": "3.13.0"
  }
 },
 "nbformat": 4,
 "nbformat_minor": 5
}
