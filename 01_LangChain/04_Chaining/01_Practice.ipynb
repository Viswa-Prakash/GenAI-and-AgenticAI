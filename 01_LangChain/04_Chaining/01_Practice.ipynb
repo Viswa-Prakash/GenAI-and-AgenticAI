{
 "cells": [
  {
   "cell_type": "code",
   "execution_count": 1,
   "id": "34ba187d",
   "metadata": {},
   "outputs": [
    {
     "data": {
      "text/plain": [
       "True"
      ]
     },
     "execution_count": 1,
     "metadata": {},
     "output_type": "execute_result"
    }
   ],
   "source": [
    "import os\n",
    "from dotenv import load_dotenv\n",
    "load_dotenv()"
   ]
  },
  {
   "cell_type": "code",
   "execution_count": 2,
   "id": "b98e9e40",
   "metadata": {},
   "outputs": [],
   "source": [
    "os.environ[\"OPENAI_API_KEY\"] = os.getenv(\"OPENAI_API_KEY\")"
   ]
  },
  {
   "cell_type": "code",
   "execution_count": 3,
   "id": "4c52e3cf",
   "metadata": {},
   "outputs": [],
   "source": [
    "from langchain_openai import ChatOpenAI\n",
    "from langchain_core.prompts import PromptTemplate, ChatPromptTemplate\n",
    "from langchain_core.output_parsers import StrOutputParser, CommaSeparatedListOutputParser, JsonOutputParser\n",
    "from langchain_core.runnables import RunnablePassthrough\n",
    "from pydantic import BaseModel, Field"
   ]
  },
  {
   "cell_type": "code",
   "execution_count": 4,
   "id": "0a7debd9",
   "metadata": {},
   "outputs": [],
   "source": [
    "# Initialize LLM\n",
    "llm = ChatOpenAI(model=\"gpt-4.1-mini\", temperature=0.7) # A bit higher temp for more varied responses"
   ]
  },
  {
   "cell_type": "markdown",
   "id": "16fd6d91",
   "metadata": {},
   "source": [
    "Question 1: Basic LLM Chain"
   ]
  },
  {
   "cell_type": "code",
   "execution_count": 5,
   "id": "81c151bb",
   "metadata": {},
   "outputs": [
    {
     "name": "stdout",
     "output_type": "stream",
     "text": [
      "The capital of Australia is Canberra.\n"
     ]
    }
   ],
   "source": [
    "prompt = PromptTemplate.from_template(\"What is the capital of {country}\")\n",
    "parser = StrOutputParser()\n",
    "chain = prompt | llm | parser\n",
    "result = chain.invoke({\"country\": \"australia\"})\n",
    "print(result)\n"
   ]
  },
  {
   "cell_type": "markdown",
   "id": "e24ad6ea",
   "metadata": {},
   "source": [
    "Question 2: Chain with Multiple Variables"
   ]
  },
  {
   "cell_type": "code",
   "execution_count": 6,
   "id": "8f947fb0",
   "metadata": {},
   "outputs": [
    {
     "name": "stdout",
     "output_type": "stream",
     "text": [
      "The translation of \"Where is the nearest cafe?\" into Japanese is:\n",
      "\n",
      "一番近いカフェはどこですか？  \n",
      "(Ichiban chikai kafe wa doko desu ka?)\n"
     ]
    }
   ],
   "source": [
    "prompt = PromptTemplate.from_template(\n",
    "    \"Translate the {text} from {source_lang} to {target_lang}\"\n",
    "    )\n",
    "parser = StrOutputParser()\n",
    "chain = prompt|llm|parser\n",
    "result = chain.invoke({\n",
    "    \"text\":\"Where is the nearest cafe?\",\n",
    "    \"source_lang\":\"English\",\n",
    "    \"target_lang\":\"japanese\"\n",
    "    })\n",
    "print(result)"
   ]
  },
  {
   "cell_type": "markdown",
   "id": "8438919a",
   "metadata": {},
   "source": [
    "Question 3: Introducing CommaSeparatedListOutputParser"
   ]
  },
  {
   "cell_type": "code",
   "execution_count": 7,
   "id": "5d6d304c",
   "metadata": {},
   "outputs": [
    {
     "name": "stdout",
     "output_type": "stream",
     "text": [
      "['Mango', 'banana', 'pineapple']\n"
     ]
    }
   ],
   "source": [
    "prompt = PromptTemplate.from_template(\n",
    "    \"List 3 common {fruits}, seperated by comma\"\n",
    ")\n",
    "parser = CommaSeparatedListOutputParser()\n",
    "chain = prompt|llm|parser\n",
    "result = chain.invoke({\"fruits\":\"tropical\"})\n",
    "print(result)"
   ]
  },
  {
   "cell_type": "markdown",
   "id": "057f5559",
   "metadata": {},
   "source": [
    "Question 4: Sequential Chain (Output of one is input to another)"
   ]
  },
  {
   "cell_type": "code",
   "execution_count": 8,
   "id": "32506cbe",
   "metadata": {},
   "outputs": [
    {
     "name": "stdout",
     "output_type": "stream",
     "text": [
      "Chain Response (App concept + features):\n",
      "Sure! Here are 3 key features for **PetPal**:\n",
      "\n",
      "1. **Customizable Care Schedules:**  \n",
      "   Users can create and personalize daily routines for each pet, including feeding times, walks, medication doses, grooming, and other care tasks.\n",
      "\n",
      "2. **Smart Reminders & Notifications:**  \n",
      "   The app sends timely alerts and push notifications to remind users of upcoming tasks, ensuring no care activity is missed.\n",
      "\n",
      "3. **Activity Logging & History:**  \n",
      "   Users can easily log completed tasks and view a history of their pet’s care activities, helping them track consistency and share updates with vets or pet sitters.\n"
     ]
    }
   ],
   "source": [
    "concept_prompt = PromptTemplate.from_template(\n",
    "    \"Generate a very short, simple concept on mobile app on {category}.\"\n",
    ")\n",
    "\n",
    "expand_prompt = PromptTemplate.from_template(\n",
    "    \"Give this app concept: {concept}, provide 3 key features for it\"\n",
    ")\n",
    "\n",
    "parser = StrOutputParser()\n",
    "chain = (\n",
    "    {\"concept\" : concept_prompt | llm | parser}\n",
    "    | expand_prompt\n",
    "    | llm\n",
    "    | parser\n",
    ")\n",
    "\n",
    "response = chain.invoke({\"category\": \"pet care\"})\n",
    "print(f\"Chain Response (App concept + features):\\n{response}\")\n"
   ]
  },
  {
   "cell_type": "markdown",
   "id": "3750a404",
   "metadata": {},
   "source": [
    "Question 5: ChatPromptTemplate in a Chain"
   ]
  },
  {
   "cell_type": "code",
   "execution_count": 9,
   "id": "a53b0689",
   "metadata": {},
   "outputs": [
    {
     "name": "stdout",
     "output_type": "stream",
     "text": [
      "Random Forest is an ensemble machine learning algorithm used for classification and regression tasks. It builds multiple decision trees during training and outputs the mode of the classes (classification) or mean prediction (regression) of the individual trees. This approach improves accuracy and reduces overfitting compared to a single decision tree.\n"
     ]
    }
   ],
   "source": [
    "chat_prompt = ChatPromptTemplate.from_messages([\n",
    "    (\"system\", \"You are an expert on {topic}. Provide a concise answer.\"),\n",
    "    (\"human\", \"{question}\"),\n",
    "])\n",
    "\n",
    "parser = StrOutputParser()\n",
    "chain = chat_prompt|llm|parser\n",
    "result = chain.invoke({\n",
    "    \"topic\" : \"data science\",\n",
    "    \"question\" : \"what is random forest\"\n",
    "})\n",
    "print(result)"
   ]
  },
  {
   "cell_type": "markdown",
   "id": "56dc50d1",
   "metadata": {},
   "source": [
    "Question 6: JsonOutputParser with Pydantic Model"
   ]
  },
  {
   "cell_type": "code",
   "execution_count": 10,
   "id": "68e6cbd4",
   "metadata": {},
   "outputs": [
    {
     "name": "stdout",
     "output_type": "stream",
     "text": [
      "{'title': \"The Hitchhiker's Guide to the Galaxy\", 'author': 'Douglas Adams', 'genre': 'Science Fiction', 'publication_year': 1979}\n"
     ]
    }
   ],
   "source": [
    "class BookInfo(BaseModel):\n",
    "    title:str = Field(description=\"The title of the book\")\n",
    "    author:str = Field(description=\"The author of the book\")\n",
    "    genre:str = Field(description=\"The genre of the book\")\n",
    "    publication_year:int = Field(description=\"The year the book was published\")\n",
    "\n",
    "json_parser = JsonOutputParser(pydantic_object = BookInfo)\n",
    "json_schema = json_parser.get_format_instructions()\n",
    "\n",
    "json_prompt = PromptTemplate.from_template(\n",
    "    \"Extract information about the book '{book_name}.\\n\"\n",
    "    \"Format your output as JSON, according to the following schema: \\n{format_instructions}\"\n",
    ")\n",
    "chain = json_prompt|llm|json_parser\n",
    "\n",
    "response = chain.invoke({\n",
    "    \"book_name\":\"The Hitchhiker's Guide to the Galaxy\",\n",
    "    \"format_instructions\" : json_schema\n",
    "})\n",
    "print(response)"
   ]
  },
  {
   "cell_type": "markdown",
   "id": "4fefaf92",
   "metadata": {},
   "source": [
    "Question 7: More Complex Sequential Chain with Context Preservation"
   ]
  },
  {
   "cell_type": "code",
   "execution_count": 20,
   "id": "e3ef6fce",
   "metadata": {},
   "outputs": [
    {
     "name": "stdout",
     "output_type": "stream",
     "text": [
      "Why did the otters hold hands while sleeping?  \n",
      "Because they didn’t want their dreams to drift apart!\n"
     ]
    }
   ],
   "source": [
    "parser = StrOutputParser()\n",
    "# Step 1: Summarize the sentence\n",
    "summary_prompt = PromptTemplate.from_template(\"Summarize this: {sentence}\")\n",
    "summary_chain = summary_prompt | llm | parser\n",
    "\n",
    "# Step 2: Combine original and summary\n",
    "combo_prompt = PromptTemplate.from_template(\n",
    "    \"Original: {sentence}\\nSummary: {summary}\\nWrite a joke about this topic.\"\n",
    ")\n",
    "combo_chain = combo_prompt | llm | parser\n",
    "\n",
    "# Chain with pass-through for context\n",
    "chain = (\n",
    "    {\"sentence\": RunnablePassthrough()}\n",
    "    | {\"summary\": summary_chain, \"sentence\": RunnablePassthrough()}\n",
    "    | combo_chain\n",
    ")\n",
    "\n",
    "result = chain.invoke({\"sentence\": \"Otters hold hands while sleeping so they don't drift apart.\"})\n",
    "print(result)"
   ]
  },
  {
   "cell_type": "markdown",
   "id": "34cd6506",
   "metadata": {},
   "source": [
    "Question 8: Simple Retrieval Chain"
   ]
  },
  {
   "cell_type": "code",
   "execution_count": 21,
   "id": "b58cb396",
   "metadata": {},
   "outputs": [
    {
     "name": "stdout",
     "output_type": "stream",
     "text": [
      "Retrieval Chain (Python): The common uses of Python are web development, data analysis, AI, and scripting.\n",
      "\n",
      "Retrieval Chain (JavaScript): JavaScript is primarily used on the web to enable interactive web pages and create dynamic, responsive user experiences within web applications.\n"
     ]
    }
   ],
   "source": [
    "parser = StrOutputParser()\n",
    "\n",
    "def dummy_retriever(query:str):\n",
    "    if \"python\" in query.lower():\n",
    "        return \"Python is a high-level, interpreted programming language. It is known for its simplicity and readability. Common uses include web development, data analysis, AI, and scripting.\"\n",
    "    elif \"javascript\" in query.lower():\n",
    "        return \"JavaScript is a programming language that is one of the core technologies of the World Wide Web, alongside HTML and CSS. It enables interactive web pages and is an essential part of web applications.\"\n",
    "    else:\n",
    "        return \"No specific information found for this query.\"\n",
    "\n",
    "retrieval_prompt = PromptTemplate.from_template(\n",
    "    \"Given the following information:\\n{context}\\n\\nAnswer the questions: {query}\"\n",
    ")\n",
    "\n",
    "chain = (\n",
    "    RunnablePassthrough.assign(context=lambda x: dummy_retriever(x[\"query\"])) # Run retriever to get context\n",
    "    | retrieval_prompt\n",
    "    | llm\n",
    "    | parser\n",
    ")\n",
    "\n",
    "response_python = chain.invoke({\"query\": \"What are the common uses of Python?\"})\n",
    "print(f\"Retrieval Chain (Python): {response_python}\\n\")\n",
    "\n",
    "response_js = chain.invoke({\"query\": \"What is JavaScript primarily used for on the web?\"})\n",
    "print(f\"Retrieval Chain (JavaScript): {response_js}\")"
   ]
  },
  {
   "cell_type": "code",
   "execution_count": null,
   "id": "55f173d6",
   "metadata": {},
   "outputs": [],
   "source": []
  }
 ],
 "metadata": {
  "kernelspec": {
   "display_name": "genAI",
   "language": "python",
   "name": "python3"
  },
  "language_info": {
   "codemirror_mode": {
    "name": "ipython",
    "version": 3
   },
   "file_extension": ".py",
   "mimetype": "text/x-python",
   "name": "python",
   "nbconvert_exporter": "python",
   "pygments_lexer": "ipython3",
   "version": "3.13.0"
  }
 },
 "nbformat": 4,
 "nbformat_minor": 5
}
