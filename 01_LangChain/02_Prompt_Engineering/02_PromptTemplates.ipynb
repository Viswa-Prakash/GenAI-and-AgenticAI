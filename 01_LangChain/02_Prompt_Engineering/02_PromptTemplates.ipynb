{
 "cells": [
  {
   "cell_type": "code",
   "execution_count": 2,
   "id": "064e4d07",
   "metadata": {},
   "outputs": [
    {
     "data": {
      "text/plain": [
       "True"
      ]
     },
     "execution_count": 2,
     "metadata": {},
     "output_type": "execute_result"
    }
   ],
   "source": [
    "import os\n",
    "from dotenv import load_dotenv\n",
    "load_dotenv()"
   ]
  },
  {
   "cell_type": "code",
   "execution_count": 3,
   "id": "075a0983",
   "metadata": {},
   "outputs": [],
   "source": [
    "os.environ[\"OPENAI_API_KEY\"] = os.getenv(\"OPENAI_API_KEY\")"
   ]
  },
  {
   "cell_type": "code",
   "execution_count": 6,
   "id": "9030447d",
   "metadata": {},
   "outputs": [],
   "source": [
    "from langchain_openai import ChatOpenAI\n",
    "from langchain_core.prompts import PromptTemplate, ChatPromptTemplate, HumanMessagePromptTemplate, SystemMessagePromptTemplate\n",
    "from langchain_core.messages import HumanMessage, SystemMessage"
   ]
  },
  {
   "cell_type": "code",
   "execution_count": null,
   "id": "1b967e04",
   "metadata": {},
   "outputs": [],
   "source": [
    "# Initialize a base LLM for all questions\n",
    "llm = ChatOpenAI(model = 'gpt-4.1-nano', temperature=0.2)"
   ]
  },
  {
   "cell_type": "markdown",
   "id": "f763cabd",
   "metadata": {},
   "source": [
    "Q1: Basic PromptTemplate (from_template)"
   ]
  },
  {
   "cell_type": "code",
   "execution_count": 13,
   "id": "ea98ac11",
   "metadata": {},
   "outputs": [
    {
     "name": "stdout",
     "output_type": "stream",
     "text": [
      "Formatted Prompt: Tell me a short family friendly joke about a cat.\n",
      "LLM Response: Why was the cat sitting on the computer?  \n",
      "Because it wanted to keep an eye on the mouse!\n"
     ]
    }
   ],
   "source": [
    "template_1 = PromptTemplate.from_template(\"Tell me a short family friendly joke about a {animal}.\")\n",
    "prompt_1 = template_1.format(animal = 'cat')\n",
    "result_1 = llm.invoke(prompt_1)\n",
    "print(f\"Formatted Prompt: {prompt_1}\")\n",
    "print(f\"LLM Response: {result_1.content}\")"
   ]
  },
  {
   "cell_type": "markdown",
   "id": "d1225356",
   "metadata": {},
   "source": [
    "Q2: PromptTemplate with Multiple Variables"
   ]
  },
  {
   "cell_type": "code",
   "execution_count": 16,
   "id": "7ce3a4df",
   "metadata": {},
   "outputs": [
    {
     "name": "stdout",
     "output_type": "stream",
     "text": [
      "Source Language: English- Hi, This is Viswa\n",
      "Target Language: French- Bonjour, je suis Viswa.\n"
     ]
    }
   ],
   "source": [
    "template = PromptTemplate.from_template(\"Translate {text} from {source_lang} to {target_lang}\")\n",
    "\n",
    "text = \"Hi, This is Viswa\"\n",
    "source_lang = \"English\"\n",
    "target_lang = \"French\"\n",
    "\n",
    "prompt = template.format(\n",
    "text = text,\n",
    "source_lang = source_lang,\n",
    "target_lang = target_lang)\n",
    "\n",
    "result = llm.invoke(prompt)\n",
    "print(f\"Source Language: {source_lang}- {text}\")\n",
    "print(f\"Target Language: {target_lang}- {result.content}\")"
   ]
  },
  {
   "cell_type": "markdown",
   "id": "1f8c365f",
   "metadata": {},
   "source": [
    "Q3: ChatPromptTemplate - System Message"
   ]
  },
  {
   "cell_type": "code",
   "execution_count": 17,
   "id": "729a6c2c",
   "metadata": {},
   "outputs": [
    {
     "name": "stdout",
     "output_type": "stream",
     "text": [
      "Formatted Prompt: [SystemMessage(content='You are an helpful and very polite engineer', additional_kwargs={}, response_metadata={}), HumanMessage(content='What is the capital of Japan', additional_kwargs={}, response_metadata={})]\n",
      "Response: The capital of Japan is Tokyo.\n"
     ]
    }
   ],
   "source": [
    "chat_template = ChatPromptTemplate.from_messages([\n",
    "    (\"system\", \"You are an helpful and very polite engineer\"),\n",
    "    (\"human\", \"{question}\"),\n",
    "])\n",
    "\n",
    "prompt = chat_template.format_messages(question = \"What is the capital of Japan\")\n",
    "result = llm.invoke(prompt)\n",
    "print(f\"Formatted Prompt: {prompt}\")\n",
    "print(f\"Response: {result.content}\")"
   ]
  },
  {
   "cell_type": "markdown",
   "id": "fafa2711",
   "metadata": {},
   "source": [
    "Q4: ChatPromptTemplate - Human & System Messages with Variables"
   ]
  },
  {
   "cell_type": "code",
   "execution_count": 18,
   "id": "344d26e5",
   "metadata": {},
   "outputs": [
    {
     "name": "stdout",
     "output_type": "stream",
     "text": [
      "Formatted Prompt: [SystemMessage(content='You are a helpful assistant specialized in python programming', additional_kwargs={}, response_metadata={}), HumanMessage(content='difference between list and tuple', additional_kwargs={}, response_metadata={})]\n",
      "Response: Certainly! Here's a clear comparison between lists and tuples in Python:\n",
      "\n",
      "| Feature               | List                                | Tuple                               |\n",
      "|-----------------------|-------------------------------------|-------------------------------------|\n",
      "| Mutability          | Mutable (can be modified after creation) | Immutable (cannot be modified after creation) |\n",
      "| Syntax               | Square brackets `[]`                | Parentheses `()` or no brackets (e.g., `a = 1, 2, 3`) |\n",
      "| Methods              | Many mutable methods like `append()`, `extend()`, `remove()`, `sort()`, `pop()` | Limited methods, mainly `count()` and `index()` |\n",
      "| Use case             | When you need a collection that can change | When you need an unchangeable collection, e.g., as dictionary keys or constants |\n",
      "| Performance          | Slightly slower for iteration and modification | Slightly faster, more memory efficient due to immutability |\n",
      "| Hashability          | Not hashable (cannot be used as dict keys unless all elements are hashable) | Hashable if all elements are immutable, suitable as dict keys or set elements |\n",
      "\n",
      "**Summary:**  \n",
      "- Use a **list** when you need a mutable collection that can change over time.  \n",
      "- Use a **tuple** when you need an immutable collection, which can be used as a dictionary key or when data should not change.\n",
      "\n",
      "Let me know if you'd like examples!\n"
     ]
    }
   ],
   "source": [
    "chat_template = ChatPromptTemplate.from_messages([\n",
    "    (\"system\", \"You are a helpful assistant specialized in {subject}\"),\n",
    "    (\"human\", \"{question}\")\n",
    "])\n",
    "\n",
    "prompt = chat_template.format_messages(\n",
    "    subject = 'python programming',\n",
    "    question = 'difference between list and tuple'\n",
    ")\n",
    "result = llm.invoke(prompt)\n",
    "print(f\"Formatted Prompt: {prompt}\")\n",
    "print(f\"Response: {result.content}\")"
   ]
  },
  {
   "cell_type": "markdown",
   "id": "ddc64232",
   "metadata": {},
   "source": [
    "Q5: Using Specific Message Prompt Templates (HumanMessagePromptTemplate, SystemMessagePromptTemplate)"
   ]
  },
  {
   "cell_type": "code",
   "execution_count": 21,
   "id": "111686f1",
   "metadata": {},
   "outputs": [
    {
     "name": "stdout",
     "output_type": "stream",
     "text": [
      "Formatted Prompt: [SystemMessage(content='You are a witty poet who writes about nature.', additional_kwargs={}, response_metadata={}), HumanMessage(content='Write a short poem about a blooming river.', additional_kwargs={}, response_metadata={})]\n",
      "Response:\n",
      "A river wakes with petals bright,  \n",
      "Its silver stream in dawn’s soft light,  \n",
      "Bursts forth with blooms on tender bowers,  \n",
      "A dance of life in liquid hours.  \n",
      "  \n",
      "Flowing past the blooms in glee,  \n",
      "A blooming river, wild and free,  \n",
      "Where water whispers, sings, and gleams,  \n",
      "A poet’s dream in flowing streams.\n"
     ]
    }
   ],
   "source": [
    "system_message = SystemMessagePromptTemplate.from_template(\"You are a witty poet who writes about {topic}.\")\n",
    "human_message = HumanMessagePromptTemplate.from_template(\"Write a short poem about {object}.\")\n",
    "\n",
    "chat_template = ChatPromptTemplate.from_messages([\n",
    "    system_message,\n",
    "    human_message\n",
    "])\n",
    "\n",
    "prompt = chat_template.format_messages(\n",
    "    topic = \"nature\",\n",
    "    object = \"a blooming river\"\n",
    ")\n",
    "\n",
    "result = llm.invoke(prompt)\n",
    "print(f\"Formatted Prompt: {prompt}\")\n",
    "print(f\"Response:\\n{result.content}\")"
   ]
  },
  {
   "cell_type": "markdown",
   "id": "f369e346",
   "metadata": {},
   "source": [
    "Q6: Using 'partial' for Reusable Templates"
   ]
  },
  {
   "cell_type": "code",
   "execution_count": 22,
   "id": "7dec3941",
   "metadata": {},
   "outputs": [
    {
     "name": "stdout",
     "output_type": "stream",
     "text": [
      "Formatted Prompt for teacher: Explain quantum physics for a teacher.\n",
      "Response: Certainly! Quantum physics, also known as quantum mechanics, is a fundamental branch of physics that describes the behavior of matter and energy on very small scales—atomic and subatomic levels—that classical physics cannot adequately explain.\n",
      "\n",
      "### Key Concepts of Quantum Physics:\n",
      "\n",
      "1. **Quantization:**  \n",
      "   Unlike classical physics, which treats energy as continuous, quantum physics shows that certain properties, like energy levels of electrons in atoms, are discrete or \"quantized.\" Think of it as stairs rather than a ramp—electrons can only occupy specific energy levels.\n",
      "\n",
      "2. **Wave-Particle Duality:**  \n",
      "   Particles such as electrons and photons exhibit both particle-like and wave-like properties. For example, electrons can produce interference patterns in a double-slit experiment, demonstrating wave behavior, but also hit a detector as discrete particles.\n",
      "\n",
      "3. **Superposition:**  \n",
      "   Quantum systems can exist in multiple states simultaneously until measured. For instance, an electron can be in a combination of different energy states at once—this is known as a superposition.\n",
      "\n",
      "4. **Quantitative Measurement and Uncertainty:**  \n",
      "   The act of measurement affects the system. The Heisenberg Uncertainty Principle states that certain pairs of properties, like position and momentum, cannot both be precisely known at the same time. The more accurately you know one, the less accurately you know the other.\n",
      "\n",
      "5. **Entanglement:**  \n",
      "   When particles become entangled, the state of one instantly influences the state of another, regardless of the distance separating them. This phenomenon has been experimentally confirmed and is fundamental to emerging technologies like quantum computing.\n",
      "\n",
      "### How to Explain to Students:\n",
      "- Use analogies like the \"quantum leap\" or energy levels of an atom being like rungs on a ladder.\n",
      "- Illustrate wave-particle duality with light: sometimes behaving like a wave (interference) and other times like particles (photoelectric effect).\n",
      "- Demonstrate superposition through thought experiments like Schrödinger's cat, which is both alive and dead until observed.\n",
      "- Discuss real-world applications such as quantum computers, cryptography, and MRI machines to show relevance.\n",
      "\n",
      "### Summary:\n",
      "Quantum physics challenges our classical intuition by revealing a universe that is probabilistic, discrete, and interconnected in ways that differ fundamentally from everyday experiences. It underpins much of modern technology and continues to be a vibrant area of scientific research.\n",
      "\n",
      "If you'd like, I can also suggest engaging teaching activities or visual aids to help your students grasp these concepts more effectively.\n",
      "Formatted Prompt for student: Explain gravity for a teacher.\n",
      "Response: Certainly! Here's an explanation of gravity suitable for a teacher:\n",
      "\n",
      "Gravity is a fundamental force of nature that causes objects with mass to attract each other. It is what gives weight to physical objects and is responsible for the structure and behavior of the universe on both large and small scales.\n",
      "\n",
      "**Key points about gravity:**\n",
      "\n",
      "1. **Universal Force:** Gravity acts between all objects that have mass, regardless of their size or distance, although the strength diminishes as the distance increases.\n",
      "\n",
      "2. **Newton's Law of Universal Gravitation:** Sir Isaac Newton described gravity as a force that is directly proportional to the product of the masses of two objects and inversely proportional to the square of the distance between them. Mathematically:  \n",
      "   \\[\n",
      "   F = G \\frac{m_1 m_2}{r^2}\n",
      "   \\]\n",
      "   where \\( F \\) is the gravitational force, \\( G \\) is the gravitational constant, \\( m_1 \\) and \\( m_2 \\) are the masses, and \\( r \\) is the distance between their centers.\n",
      "\n",
      "3. **Role in Celestial Mechanics:** Gravity is the force that causes planets to orbit stars, moons to orbit planets, and galaxies to hold together. It governs the motion of celestial bodies and the structure of the cosmos.\n",
      "\n",
      "4. **Einstein's General Theory of Relativity:** In the early 20th century, Albert Einstein described gravity not as a force, but as the curvature of spacetime caused by mass and energy. Massive objects distort spacetime, and this curvature directs the motion of objects — what we perceive as gravitational attraction.\n",
      "\n",
      "**In teaching:**\n",
      "\n",
      "- Use everyday examples like dropping objects (which fall toward Earth) to illustrate gravity.\n",
      "- Discuss phenomena such as tides (caused by the moon's gravitational pull) and planetary orbits to demonstrate gravity's influence.\n",
      "- Incorporate visual aids, like spacetime diagrams or simulations, to help students grasp the concept of curved spacetime.\n",
      "\n",
      "Understanding gravity provides a foundation for exploring many areas of physics and astronomy, helping students appreciate how the universe functions at both observable and theoretical levels.\n"
     ]
    }
   ],
   "source": [
    "base_template = PromptTemplate.from_template(\"Explain {concept} for a {audience}.\")\n",
    "\n",
    "# Create a partial template for teachers\n",
    "template_for_teacher = base_template.partial(audience = 'teacher')\n",
    "prompt = template_for_teacher.format(\n",
    "    concept = 'quantum physics'\n",
    ")\n",
    "result = llm.invoke(prompt)\n",
    "print(f\"Formatted Prompt for teacher: {prompt}\")\n",
    "print(f\"Response: {result.content}\")\n",
    "\n",
    "# Create a partial template for students\n",
    "template_for_student = base_template.partial(audience = 'student')\n",
    "prompt = template_for_teacher.format(\n",
    "    concept = 'gravity'\n",
    ")\n",
    "result = llm.invoke(prompt)\n",
    "print(f\"Formatted Prompt for student: {prompt}\")\n",
    "print(f\"Response: {result.content}\")\n"
   ]
  },
  {
   "cell_type": "markdown",
   "id": "fdccb4c7",
   "metadata": {},
   "source": [
    "Q7: PromptTemplate with a List of Questions (Simple Iteration)"
   ]
  },
  {
   "cell_type": "code",
   "execution_count": 27,
   "id": "de855738",
   "metadata": {},
   "outputs": [
    {
     "name": "stdout",
     "output_type": "stream",
     "text": [
      "\n",
      "---python---\n",
      "\n",
      "Formatted Prompt: What the 5 key features of a python\n",
      "Response: Certainly! Here are five key features of the Python programming language:\n",
      "\n",
      "1. **Easy to Read and Write**: Python's syntax is clean and straightforward, making it easy for programmers to read and write code efficiently.\n",
      "\n",
      "2. **Interpreted Language**: Python code is executed line-by-line by the interpreter, which allows for quick testing and debugging without the need for compilation.\n",
      "\n",
      "3. **High-Level Language**: Python abstracts many complex details of the computer's hardware, allowing developers to focus on solving problems rather than managing low-level operations.\n",
      "\n",
      "4. **Dynamically Typed**: Variables in Python do not require explicit declaration of their data types, as the interpreter infers types at runtime, facilitating rapid development.\n",
      "\n",
      "5. **Extensive Standard Library and Ecosystem**: Python provides a vast standard library and a rich ecosystem of third-party packages, enabling diverse functionalities such as web development, data analysis, machine learning, automation, and more.\n",
      "\n",
      "Would you like more detailed explanations or additional features?\n",
      "\n",
      "---java---\n",
      "\n",
      "Formatted Prompt: What the 5 key features of a java\n",
      "Response: Certainly! Here are the five key features of Java:\n",
      "\n",
      "1. **Platform Independence (Write Once, Run Anywhere):** Java code is compiled into bytecode, which can run on any system that has a Java Virtual Machine (JVM), making Java programs portable across different platforms.\n",
      "\n",
      "2. **Object-Oriented Programming:** Java is primarily an object-oriented language, emphasizing concepts like classes, objects, inheritance, encapsulation, and polymorphism to create modular and reusable code.\n",
      "\n",
      "3. **Robust and Secure:** Java provides strong memory management, exception handling, and runtime checking, which help in writing reliable and secure applications. Additionally, the Java Security Manager and Bytecode Verifier add layers of security.\n",
      "\n",
      "4. **Multithreading Support:** Java has built-in support for multithreaded programming, allowing developers to build highly responsive and concurrent applications.\n",
      "\n",
      "5. **Automatic Memory Management:** Java handles memory allocation and deallocation automatically through garbage collection, reducing the chances of memory leaks and other related issues.\n",
      "\n",
      "Would you like more details on any of these features?\n"
     ]
    }
   ],
   "source": [
    "template = PromptTemplate.from_template(\"What the 5 key features of a {programming_language}\")\n",
    "languages= ['python', 'java']\n",
    "\n",
    "for lang in languages:\n",
    "    prompt = template.format(programming_language = lang)\n",
    "    result = llm.invoke(prompt)\n",
    "    print(f\"\\n---{lang}---\\n\")\n",
    "    print(f\"Formatted Prompt: {prompt}\")\n",
    "    print(f\"Response: {result.content}\")"
   ]
  },
  {
   "cell_type": "markdown",
   "id": "af7e18d4",
   "metadata": {},
   "source": [
    "Q8:  Dynamic System Message Based on Input"
   ]
  },
  {
   "cell_type": "code",
   "execution_count": 28,
   "id": "2b490f87",
   "metadata": {},
   "outputs": [
    {
     "name": "stdout",
     "output_type": "stream",
     "text": [
      "Formatted Prompt: [SystemMessage(content='Yor are an assistant providing imformation on science. Be concise', additional_kwargs={}, response_metadata={}), HumanMessage(content='What is black hole', additional_kwargs={}, response_metadata={})]\n",
      "Response: A black hole is a region in space where gravity is so strong that nothing, not even light, can escape its pull. It forms when massive stars collapse under their own gravity at the end of their life cycle. Black holes have an event horizon, the boundary beyond which nothing can escape.\n",
      "Formatted Prompt: [SystemMessage(content='Yor are an assistant providing imformation on history. Be concise', additional_kwargs={}, response_metadata={}), HumanMessage(content='Who was julius ceaser', additional_kwargs={}, response_metadata={})]\n",
      "Response: Julius Caesar was a Roman military general and statesman who played a crucial role in the fall of the Roman Republic and the rise of the Roman Empire. He is known for his military conquests, including the conquest of Gaul, and his political reforms. Caesar was assassinated in 44 BCE by a group of senators.\n"
     ]
    }
   ],
   "source": [
    "chat_template = ChatPromptTemplate.from_messages([\n",
    "    (\"system\", \"Yor are an assistant providing imformation on {topic}. Be concise\"),\n",
    "    (\"human\", \"{query}\"),\n",
    "])\n",
    "\n",
    "# Science Topic\n",
    "prompt = chat_template.format_messages(\n",
    "    topic = \"science\",\n",
    "    query = \"What is black hole\"\n",
    ")\n",
    "result = llm.invoke(prompt)\n",
    "print(f\"Formatted Prompt: {prompt}\")\n",
    "print(f\"Response: {result.content}\")\n",
    "\n",
    "# History Topic\n",
    "prompt = chat_template.format_messages(\n",
    "    topic = \"history\",\n",
    "    query = \"Who was julius ceaser\"\n",
    ")\n",
    "result = llm.invoke(prompt)\n",
    "print(f\"Formatted Prompt: {prompt}\")\n",
    "print(f\"Response: {result.content}\")"
   ]
  },
  {
   "cell_type": "markdown",
   "id": "e2e7b72f",
   "metadata": {},
   "source": [
    "Q9: Combining PromptTemplate with LLM Chain"
   ]
  },
  {
   "cell_type": "code",
   "execution_count": 31,
   "id": "2d7b3856",
   "metadata": {},
   "outputs": [
    {
     "name": "stdout",
     "output_type": "stream",
     "text": [
      "Formatted Prompt: Summarise the following text for a high school student in a maximum of 50 words: \n",
      "\n",
      "\n",
      "The Internet of Things (IoT) refers to a network of interconnected physical devices, vehicles, appliances, and other objects embedded with sensors, software, and network connectivity, enabling them to collect and exchange data. Essentially, it's about connecting everyday \"things\" to the internet and to each other, allowing them to communicate and share information. \n",
      "\n",
      "Response: The Internet of Things (IoT) connects everyday devices like appliances and cars to the internet, allowing them to communicate, share data, and work together automatically. This makes our lives easier by making devices smarter and more helpful.\n"
     ]
    }
   ],
   "source": [
    "template = PromptTemplate.from_template(\n",
    "    \"Summarise the following text for a {target_person} in a maximum of {word_limit} words: \\n\\n{text}\")\n",
    "\n",
    "long_text = '''\n",
    "The Internet of Things (IoT) refers to a network of interconnected physical devices, vehicles, appliances, and other objects embedded with sensors, software, and network connectivity, enabling them to collect and exchange data. Essentially, it's about connecting everyday \"things\" to the internet and to each other, allowing them to communicate and share information. \n",
    "'''\n",
    "\n",
    "prompt = template.format(\n",
    "    target_person = \"high school student\",\n",
    "    word_limit = 50,\n",
    "    text = long_text\n",
    ")\n",
    "\n",
    "result = llm.invoke(prompt)\n",
    "print(f\"Formatted Prompt: {prompt}\")\n",
    "print(f\"Response: {result.content}\")"
   ]
  }
 ],
 "metadata": {
  "kernelspec": {
   "display_name": "genAI",
   "language": "python",
   "name": "python3"
  },
  "language_info": {
   "codemirror_mode": {
    "name": "ipython",
    "version": 3
   },
   "file_extension": ".py",
   "mimetype": "text/x-python",
   "name": "python",
   "nbconvert_exporter": "python",
   "pygments_lexer": "ipython3",
   "version": "3.13.0"
  }
 },
 "nbformat": 4,
 "nbformat_minor": 5
}
